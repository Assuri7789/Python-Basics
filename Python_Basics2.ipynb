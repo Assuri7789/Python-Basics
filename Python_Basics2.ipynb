{
  "nbformat": 4,
  "nbformat_minor": 0,
  "metadata": {
    "colab": {
      "provenance": []
    },
    "kernelspec": {
      "name": "python3",
      "display_name": "Python 3"
    },
    "language_info": {
      "name": "python"
    }
  },
  "cells": [
    {
      "cell_type": "markdown",
      "source": [
        "### **Strings in Python 📜**  \n",
        "\n",
        "A **string** is a sequence of **characters** enclosed in **single (`'`), double (`\"`)**, or **triple (`'''` or \"\"\" \"\"\")** quotes.  \n",
        "\n",
        "✅ **Examples:**  \n",
        "```python\n",
        "string1 = 'Hello'\n",
        "string2 = \"Python\"\n",
        "string3 = '''This is a multi-line string.'''\n",
        "```\n",
        "\n",
        "---\n",
        "\n",
        "## **Basic String Operations**  \n",
        "\n",
        "### **1️⃣ String Concatenation (`+`)**  \n",
        "Joins two or more strings together.  \n",
        "\n",
        "✅ **Example:**  \n",
        "```python\n",
        "str1 = \"Hello\"\n",
        "str2 = \"World\"\n",
        "result = str1 + \" \" + str2\n",
        "print(result)\n",
        "```\n",
        "🔹 **Output:** `Hello World`  \n",
        "\n",
        "---\n",
        "\n",
        "### **2️⃣ String Repetition (`*`)**  \n",
        "Repeats a string **multiple times**.  \n",
        "\n",
        "✅ **Example:**  \n",
        "```python\n",
        "str1 = \"Python \"\n",
        "print(str1 * 3)\n",
        "```\n",
        "🔹 **Output:** `Python Python Python`  \n",
        "\n",
        "---\n",
        "\n",
        "### **3️⃣ String Indexing (`[]`)**  \n",
        "Access **individual** characters using index values.  \n",
        "- **Index starts from `0` (left to right)**\n",
        "- **Negative index** starts from `-1` (right to left)  \n",
        "\n",
        "✅ **Example:**  \n",
        "```python\n",
        "text = \"Python\"\n",
        "print(text[0])   # First character\n",
        "print(text[-1])  # Last character\n",
        "```\n",
        "🔹 **Output:**  \n",
        "```\n",
        "P\n",
        "n\n",
        "```\n",
        "\n",
        "---\n",
        "\n",
        "### **4️⃣ String Slicing (`[:]`)**  \n",
        "Extracts **parts** of a string.  \n",
        "\n",
        "✅ **Example:**  \n",
        "```python\n",
        "text = \"Hello, World!\"\n",
        "print(text[0:5])   # 'Hello'\n",
        "print(text[:5])    # 'Hello' (start from index 0)\n",
        "print(text[7:])    # 'World!' (till the end)\n",
        "print(text[-6:])   # 'World!' (negative index)\n",
        "```\n",
        "\n",
        "---\n",
        "\n",
        "### **5️⃣ Length of String (`len()`)**  \n",
        "Finds the **number of characters** in a string.  \n",
        "\n",
        "✅ **Example:**  \n",
        "```python\n",
        "text = \"Python\"\n",
        "print(len(text))\n",
        "```\n",
        "🔹 **Output:** `6`  \n",
        "\n",
        "---\n",
        "\n",
        "### **6️⃣ String Methods**  \n",
        "\n",
        "Python provides many **built-in functions** for strings:  \n",
        "\n",
        "✅ **Convert to Uppercase & Lowercase**  \n",
        "```python\n",
        "text = \"Hello\"\n",
        "print(text.upper())  # 'HELLO'\n",
        "print(text.lower())  # 'hello'\n",
        "```\n",
        "\n",
        "✅ **Check if String Starts/Ends with a Specific Word**  \n",
        "```python\n",
        "text = \"Python is great\"\n",
        "print(text.startswith(\"Python\"))  # True\n",
        "print(text.endswith(\"bad\"))       # False\n",
        "```\n",
        "\n",
        "✅ **Find & Replace Substrings**  \n",
        "```python\n",
        "text = \"I love Python\"\n",
        "print(text.replace(\"love\", \"like\"))  # 'I like Python'\n",
        "print(text.find(\"Python\"))           # Index of 'Python' (7)\n",
        "```\n",
        "\n",
        "✅ **Remove Whitespace (`strip()`)**  \n",
        "```python\n",
        "text = \"   Hello   \"\n",
        "print(text.strip())  # 'Hello'\n",
        "```\n",
        "\n",
        "✅ **Split a String into a List**  \n",
        "```python\n",
        "text = \"apple,banana,grape\"\n",
        "print(text.split(\",\"))  # ['apple', 'banana', 'grape']\n",
        "```\n",
        "\n",
        "---\n",
        "\n",
        "### **7️⃣ String Formatting (`f-strings`)**  \n",
        "Used to insert **variables** into strings.  \n",
        "\n",
        "✅ **Example:**  \n",
        "```python\n",
        "name = \"Alice\"\n",
        "age = 25\n",
        "print(f\"My name is {name} and I am {age} years old.\")\n",
        "```\n",
        "🔹 **Output:** `My name is Alice and I am 25 years old.`  \n",
        "\n",
        "---\n"
      ],
      "metadata": {
        "id": "bvkW4Yuu4XTq"
      }
    },
    {
      "cell_type": "markdown",
      "source": [
        "### **Escape Sequence Characters in Python 🔠**  \n",
        "\n",
        "**Escape sequences** are special characters used in strings to represent things like **new lines, tabs, quotes, and special symbols**. They start with a **backslash (`\\`)**.  \n",
        "\n",
        "---\n",
        "\n",
        "## **📌 Common Escape Sequences in Python**  \n",
        "\n",
        "| Escape Sequence | Meaning | Example | Output |\n",
        "|----------------|---------|---------|--------|\n",
        "| `\\n` | New line | `\"Hello\\nWorld\"` | Hello <br> World |\n",
        "| `\\t` | Tab (4 spaces) | `\"Hello\\tWorld\"` | Hello   World |\n",
        "| `\\'` | Single quote | `'It\\'s a book'` | It's a book |\n",
        "| `\\\"` | Double quote | `\"He said, \\\"Hi\\\"\"` | He said, \"Hi\" |\n",
        "| `\\\\` | Backslash | `\"C:\\\\Users\\\\Name\"` | C:\\Users\\Name |\n",
        "| `\\b` | Backspace | `\"Hello\\bWorld\"` | HellWorld |\n",
        "| `\\r` | Carriage return | `\"Hello\\rWorld\"` | World (overwrites \"Hello\") |\n",
        "| `\\f` | Form feed | `\"Hello\\fWorld\"` | Hello (new page) World |\n",
        "| `\\v` | Vertical tab | `\"Hello\\vWorld\"` | Hello ⬇ World |\n",
        "\n",
        "---\n",
        "\n",
        "## **📌 Examples of Escape Sequences**  \n",
        "\n",
        "### **1️⃣ New Line (`\\n`)**\n",
        "✅ **Example:**  \n",
        "```python\n",
        "print(\"Hello\\nWorld\")\n",
        "```\n",
        "🔹 **Output:**  \n",
        "```\n",
        "Hello\n",
        "World\n",
        "```\n",
        "\n",
        "---\n",
        "\n",
        "### **2️⃣ Tab (`\\t`)**\n",
        "✅ **Example:**  \n",
        "```python\n",
        "print(\"Python\\tRocks\")\n",
        "```\n",
        "🔹 **Output:**  \n",
        "```\n",
        "Python    Rocks\n",
        "```\n",
        "\n",
        "---\n",
        "\n",
        "### **3️⃣ Single & Double Quotes (`\\'`, `\\\"`)**\n",
        "✅ **Example:**  \n",
        "```python\n",
        "print('It\\'s a great day!')\n",
        "print(\"He said, \\\"Hello!\\\"\")\n",
        "```\n",
        "🔹 **Output:**  \n",
        "```\n",
        "It's a great day!\n",
        "He said, \"Hello!\"\n",
        "```\n",
        "\n",
        "---\n",
        "\n",
        "### **4️⃣ Backslash (`\\\\`)**\n",
        "✅ **Example:**  \n",
        "```python\n",
        "print(\"C:\\\\Users\\\\Admin\")\n",
        "```\n",
        "🔹 **Output:**  \n",
        "```\n",
        "C:\\Users\\Admin\n",
        "```\n",
        "\n",
        "---\n",
        "\n",
        "### **5️⃣ Backspace (`\\b`)**\n",
        "✅ **Example:**  \n",
        "```python\n",
        "print(\"Hello\\bWorld\")\n",
        "```\n",
        "🔹 **Output:**  \n",
        "```\n",
        "HellWorld\n",
        "```\n",
        "*(Removes the last character 'o')*  \n",
        "\n",
        "---\n",
        "\n",
        "### **6️⃣ Carriage Return (`\\r`)**\n",
        "✅ **Example:**  \n",
        "```python\n",
        "print(\"Hello\\rWorld\")\n",
        "```\n",
        "🔹 **Output:**  \n",
        "```\n",
        "World\n",
        "```\n",
        "*(Overwrites \"Hello\" with \"World\")*  \n",
        "\n",
        "---\n",
        "\n",
        "## **📌 Using Raw Strings (`r\"...\"`)**  \n",
        "To ignore escape sequences, use a **raw string (`r\"...\"`)**.  \n",
        "\n",
        "✅ **Example:**  \n",
        "```python\n",
        "print(r\"C:\\Users\\Admin\")\n",
        "```\n",
        "🔹 **Output:**  \n",
        "```\n",
        "C:\\Users\\Admin\n",
        "```\n",
        "*(No need for double backslashes!)*  \n",
        "\n",
        "---\n"
      ],
      "metadata": {
        "id": "rhfIg-u85K5d"
      }
    },
    {
      "cell_type": "markdown",
      "source": [
        "### **String Functions in Python 🔠**  \n",
        "\n",
        "Python provides many **built-in string functions** to manipulate and process strings efficiently.  \n",
        "\n",
        "---\n",
        "\n",
        "## **📌 Common String Functions & Methods**  \n",
        "\n",
        "| Function | Description | Example | Output |\n",
        "|----------|------------|---------|--------|\n",
        "| `len()` | Returns the length of a string | `len(\"Hello\")` | `5` |\n",
        "| `lower()` | Converts all characters to lowercase | `\"HELLO\".lower()` | `\"hello\"` |\n",
        "| `upper()` | Converts all characters to uppercase | `\"hello\".upper()` | `\"HELLO\"` |\n",
        "| `title()` | Capitalizes the first letter of each word | `\"hello world\".title()` | `\"Hello World\"` |\n",
        "| `capitalize()` | Capitalizes only the first letter of the string | `\"python\".capitalize()` | `\"Python\"` |\n",
        "| `strip()` | Removes leading and trailing spaces | `\"  hello  \".strip()` | `\"hello\"` |\n",
        "| `lstrip()` | Removes spaces from the left side | `\"  hello\".lstrip()` | `\"hello\"` |\n",
        "| `rstrip()` | Removes spaces from the right side | `\"hello  \".rstrip()` | `\"hello\"` |\n",
        "| `replace()` | Replaces occurrences of a substring | `\"apple\".replace(\"p\", \"b\")` | `\"abble\"` |\n",
        "| `split()` | Splits a string into a list | `\"a,b,c\".split(\",\")` | `['a', 'b', 'c']` |\n",
        "| `join()` | Joins elements of a list into a string | `\"-\".join([\"a\", \"b\", \"c\"])` | `\"a-b-c\"` |\n",
        "| `find()` | Returns the index of the first occurrence of a substring | `\"hello\".find(\"l\")` | `2` |\n",
        "| `count()` | Counts the number of occurrences of a substring | `\"banana\".count(\"a\")` | `3` |\n",
        "| `startswith()` | Checks if a string starts with a specific substring | `\"hello\".startswith(\"he\")` | `True` |\n",
        "| `endswith()` | Checks if a string ends with a specific substring | `\"hello\".endswith(\"o\")` | `True` |\n",
        "| `isalpha()` | Returns `True` if all characters are letters | `\"abc\".isalpha()` | `True` |\n",
        "| `isdigit()` | Returns `True` if all characters are digits | `\"123\".isdigit()` | `True` |\n",
        "| `isalnum()` | Returns `True` if all characters are letters or digits | `\"abc123\".isalnum()` | `True` |\n",
        "| `isspace()` | Returns `True` if the string contains only spaces | `\"   \".isspace()` | `True` |\n",
        "\n",
        "---\n",
        "\n",
        "## **📌 Example Usage**  \n",
        "\n",
        "### **1️⃣ Convert to Lowercase & Uppercase**  \n",
        "```python\n",
        "text = \"Hello Python\"\n",
        "print(text.lower())  # Output: hello python\n",
        "print(text.upper())  # Output: HELLO PYTHON\n",
        "```\n",
        "\n",
        "### **2️⃣ Remove Spaces from a String**  \n",
        "```python\n",
        "text = \"   Python   \"\n",
        "print(text.strip())  # Output: 'Python'\n",
        "```\n",
        "\n",
        "### **3️⃣ Replace Words**  \n",
        "```python\n",
        "text = \"I love apples\"\n",
        "print(text.replace(\"apples\", \"oranges\"))  # Output: I love oranges\n",
        "```\n",
        "\n",
        "### **4️⃣ Split and Join Strings**  \n",
        "```python\n",
        "text = \"apple,banana,grape\"\n",
        "words = text.split(\",\")  # ['apple', 'banana', 'grape']\n",
        "print(\"-\".join(words))   # Output: apple-banana-grape\n",
        "```\n",
        "\n",
        "### **5️⃣ Check String Properties**  \n",
        "```python\n",
        "print(\"123\".isdigit())   # True\n",
        "print(\"hello\".isalpha()) # True\n",
        "print(\"hello123\".isalnum())  # True\n",
        "```\n",
        "\n",
        "---"
      ],
      "metadata": {
        "id": "C7gNZYraI5Qa"
      }
    },
    {
      "cell_type": "markdown",
      "source": [
        "# **Conditional Statements in Python** 🔥  \n",
        "\n",
        "Conditional statements **control the flow** of a Python program by executing different blocks of code **based on conditions**.  \n",
        "\n",
        "---\n",
        "\n",
        "## **1️⃣ What are Conditional Statements?**  \n",
        "Conditional statements allow the program to **make decisions** based on conditions.  \n",
        "For example, checking if a user is **eligible to vote** based on their age.  \n",
        "\n",
        "---\n",
        "\n",
        "## **2️⃣ Types of Conditional Statements in Python**  \n",
        "\n",
        "| Statement | Description |\n",
        "|-----------|------------|\n",
        "| `if` | Executes a block of code **if the condition is True** |\n",
        "| `if-else` | Executes one block **if the condition is True**, otherwise executes another block |\n",
        "| `if-elif-else` | Checks **multiple conditions** one by one |\n",
        "| `nested if` | An `if` statement inside another `if` statement |\n",
        "\n",
        "---\n",
        "\n",
        "## **3️⃣ `if` Statement**  \n",
        "\n",
        "🔹 **Syntax:**  \n",
        "```python\n",
        "if condition:\n",
        "    # Code to execute if the condition is True\n",
        "```\n",
        "\n",
        "🔹 **Example:**  \n",
        "```python\n",
        "age = 18\n",
        "if age >= 18:\n",
        "    print(\"You are eligible to vote!\")\n",
        "```\n",
        "🔹 **Output:**  \n",
        "```\n",
        "You are eligible to vote!\n",
        "```\n",
        "\n",
        "---\n",
        "\n",
        "## **4️⃣ `if-else` Statement**  \n",
        "\n",
        "🔹 **Syntax:**  \n",
        "```python\n",
        "if condition:\n",
        "    # Code if condition is True\n",
        "else:\n",
        "    # Code if condition is False\n",
        "```\n",
        "\n",
        "🔹 **Example:**  \n",
        "```python\n",
        "age = 16\n",
        "if age >= 18:\n",
        "    print(\"You can vote!\")\n",
        "else:\n",
        "    print(\"You are too young to vote.\")\n",
        "```\n",
        "🔹 **Output:**  \n",
        "```\n",
        "You are too young to vote.\n",
        "```\n",
        "\n",
        "---\n",
        "\n",
        "## **5️⃣ `if-elif-else` Statement**  \n",
        "\n",
        "🔹 **Syntax:**  \n",
        "```python\n",
        "if condition1:\n",
        "    # Code if condition1 is True\n",
        "elif condition2:\n",
        "    # Code if condition2 is True\n",
        "else:\n",
        "    # Code if none of the conditions are True\n",
        "```\n",
        "\n",
        "🔹 **Example:**  \n",
        "```python\n",
        "marks = 85\n",
        "\n",
        "if marks >= 90:\n",
        "    print(\"Grade: A\")\n",
        "elif marks >= 80:\n",
        "    print(\"Grade: B\")\n",
        "elif marks >= 70:\n",
        "    print(\"Grade: C\")\n",
        "else:\n",
        "    print(\"Grade: F\")\n",
        "```\n",
        "🔹 **Output:**  \n",
        "```\n",
        "Grade: B\n",
        "```\n",
        "\n",
        "---\n",
        "\n",
        "## **6️⃣ Nested `if` Statements**  \n",
        "\n",
        "🔹 **Syntax:**  \n",
        "```python\n",
        "if condition1:\n",
        "    if condition2:\n",
        "        # Code if both conditions are True\n",
        "```\n",
        "\n",
        "🔹 **Example:**  \n",
        "```python\n",
        "num = 10\n",
        "\n",
        "if num > 0:\n",
        "    print(\"Positive Number\")\n",
        "    if num % 2 == 0:\n",
        "        print(\"Even Number\")\n",
        "```\n",
        "🔹 **Output:**  \n",
        "```\n",
        "Positive Number\n",
        "Even Number\n",
        "```\n",
        "\n",
        "---\n",
        "\n",
        "### **🎯 Summary of Conditional Statements**\n",
        "1️⃣ `if` → Executes when the condition is **True**  \n",
        "2️⃣ `if-else` → Executes one block if **True**, another if **False**  \n",
        "3️⃣ `if-elif-else` → Checks multiple conditions  \n",
        "4️⃣ **Nested `if`** → An `if` statement inside another `if`  \n",
        "\n",
        "---"
      ],
      "metadata": {
        "id": "AKrm2HVEJroP"
      }
    },
    {
      "cell_type": "markdown",
      "source": [
        "### **🔥 10 Python Programming Questions on Conditional Statements**  \n",
        "\n",
        "---\n",
        "\n",
        "### **Q1️⃣** Write a program to check if a given number is **positive, negative, or zero**.  \n",
        "\n",
        "**Example Input:** `5`  \n",
        "**Example Output:** `Positive`  \n",
        "\n",
        "---\n",
        "\n",
        "### **Q2️⃣** Write a program to check if a number is **even or odd**.  \n",
        "\n",
        "**Example Input:** `8`  \n",
        "**Example Output:** `Even`  \n",
        "\n",
        "---\n",
        "\n",
        "### **Q3️⃣** Write a program that takes three numbers and **prints the largest number**.  \n",
        "\n",
        "**Example Input:** `10, 20, 5`  \n",
        "**Example Output:** `20 is the largest`  \n",
        "\n",
        "---\n",
        "\n",
        "### **Q4️⃣** Write a program to check if a given year is a **leap year** or not.  \n",
        "(A leap year is divisible by **4** but not by **100**, unless also divisible by **400**.)  \n",
        "\n",
        "**Example Input:** `2024`  \n",
        "**Example Output:** `Leap Year`  \n",
        "\n",
        "---\n",
        "\n",
        "### **Q5️⃣** Write a program to check if a **character is a vowel or consonant**.  \n",
        "(Vowels: a, e, i, o, u)  \n",
        "\n",
        "**Example Input:** `a`  \n",
        "**Example Output:** `Vowel`  \n",
        "\n",
        "---\n",
        "\n",
        "### **Q6️⃣** Write a program to check if a given number is **divisible by both 5 and 11**.  \n",
        "\n",
        "**Example Input:** `55`  \n",
        "**Example Output:** `Divisible by both`  \n",
        "\n",
        "---\n",
        "\n",
        "### **Q7️⃣** Write a program to check if a **person is eligible to vote**.  \n",
        "(A person is eligible if age is **18 or above**.)  \n",
        "\n",
        "**Example Input:** `16`  \n",
        "**Example Output:** `Not eligible to vote`  \n",
        "\n",
        "---\n",
        "\n",
        "### **Q8️⃣** Write a program that checks whether a given number is a **multiple of 3 or 7**.  \n",
        "\n",
        "**Example Input:** `21`  \n",
        "**Example Output:** `Multiple of 3`  \n",
        "\n",
        "---\n",
        "\n",
        "### **Q9️⃣** Write a program that checks if a number is **positive and even** using **nested if statements**.  \n",
        "\n",
        "**Example Input:** `12`  \n",
        "**Example Output:** `Positive and even`  \n",
        "\n",
        "---\n",
        "\n",
        "### **🔟** Write a program that takes the **marks** of a student and assigns a grade using `if-elif-else`:  \n",
        "- `90 and above`: **Grade A**  \n",
        "- `80-89`: **Grade B**  \n",
        "- `70-79`: **Grade C**  \n",
        "- `Below 70`: **Fail**  \n",
        "\n",
        "**Example Input:** `85`  \n",
        "**Example Output:** `Grade B`  \n",
        "\n",
        "---"
      ],
      "metadata": {
        "id": "4N_zASpkbcL5"
      }
    },
    {
      "cell_type": "code",
      "source": [
        "num = input(\"Enter a number:\")\n",
        "if int(num) > 0:\n",
        "  print(\"Positive Number\")\n",
        "elif int(num) < 0:\n",
        "  print(\"Neagtive Number\")\n",
        "else:\n",
        "  print(\"Invalid\")"
      ],
      "metadata": {
        "colab": {
          "base_uri": "https://localhost:8080/"
        },
        "id": "liiSTB13bhtq",
        "outputId": "d9bf322d-81e3-49dc-f172-b5f7afd07396"
      },
      "execution_count": 10,
      "outputs": [
        {
          "output_type": "stream",
          "name": "stdout",
          "text": [
            "Enter a number:-20\n",
            "Neagtive Number\n"
          ]
        }
      ]
    },
    {
      "cell_type": "code",
      "source": [
        "num = int(input(\"Enter a number:\"))\n",
        "if (num) > 0:\n",
        "  print(\"Positive Number\")\n",
        "elif (num) < 0:\n",
        "  print(\"Neagtive Number\")\n",
        "else:\n",
        "  print(\"Invalid\")"
      ],
      "metadata": {
        "colab": {
          "base_uri": "https://localhost:8080/"
        },
        "id": "4QtlR7nbbpae",
        "outputId": "4758790a-f549-48cc-e0ab-a1f2507e38b5"
      },
      "execution_count": 11,
      "outputs": [
        {
          "output_type": "stream",
          "name": "stdout",
          "text": [
            "Enter a number:5\n",
            "Positive Number\n"
          ]
        }
      ]
    },
    {
      "cell_type": "code",
      "source": [
        "num = int(input(\"Enter a Number:\"))\n",
        "if (num % 2 == 0):\n",
        "  print(\"Even Number\")\n",
        "else:\n",
        "  print(\"Odd Number\")"
      ],
      "metadata": {
        "colab": {
          "base_uri": "https://localhost:8080/"
        },
        "id": "EylHi7jScQv-",
        "outputId": "74c24e44-fa63-4c59-a1e8-cd1aef377de4"
      },
      "execution_count": 12,
      "outputs": [
        {
          "output_type": "stream",
          "name": "stdout",
          "text": [
            "Enter a Number:7\n",
            "Odd Number\n"
          ]
        }
      ]
    },
    {
      "cell_type": "code",
      "source": [
        "num1 = int(input(\"Enter a Number1:\"))\n",
        "num2 = int(input(\"Enter a Number2:\"))\n",
        "num3 = int(input(\"Enter a Number3:\"))\n",
        "if (num1 > num2 and num1 > num3):\n",
        "  print(\"Largest num is:\", num1)\n",
        "elif (num2 > num1 and num2 > num3):\n",
        "  print(\"Largest num is:\", num2)\n",
        "else:\n",
        "  print(\"Largest num is:\", num3)"
      ],
      "metadata": {
        "colab": {
          "base_uri": "https://localhost:8080/"
        },
        "id": "RzMxiAFRckq8",
        "outputId": "6354ea9b-91fb-4ab0-8593-8cbcf5eb0b05"
      },
      "execution_count": 16,
      "outputs": [
        {
          "output_type": "stream",
          "name": "stdout",
          "text": [
            "Enter a Number1:50\n",
            "Enter a Number2:23\n",
            "Enter a Number3:56\n",
            "Largest num is: 56\n"
          ]
        }
      ]
    },
    {
      "cell_type": "code",
      "source": [
        "num = int(input(\"Enter a Number:\"))\n",
        "if(num%4 == 0 and num%100 != 0 or num%400 == 0):\n",
        "  print(\"Leap Year\")\n",
        "else:\n",
        "  print(\"Not a Leap Year\")"
      ],
      "metadata": {
        "colab": {
          "base_uri": "https://localhost:8080/"
        },
        "id": "8xCkUJRBdIlO",
        "outputId": "2d4a5e17-9895-4bf7-9a45-a4c8ac59d0d4"
      },
      "execution_count": 17,
      "outputs": [
        {
          "output_type": "stream",
          "name": "stdout",
          "text": [
            "Enter a Number:2020\n",
            "Leap Year\n"
          ]
        }
      ]
    },
    {
      "cell_type": "code",
      "source": [
        "x = input(\"Enter a Character:\")\n",
        "if(x == 'a' or x == 'e' or x == 'i' or x == 'o' or x == 'u' or x == 'A' or x == 'E' or x == 'I' or x == 'O' or x == 'U'):\n",
        "  print(\"Vowel\")\n",
        "else:\n",
        "  print(\"Consonant\")"
      ],
      "metadata": {
        "colab": {
          "base_uri": "https://localhost:8080/"
        },
        "id": "15YVsrioeJzh",
        "outputId": "10763547-8e94-46e8-918c-b2b0ec233de4"
      },
      "execution_count": 23,
      "outputs": [
        {
          "output_type": "stream",
          "name": "stdout",
          "text": [
            "Enter a Character:U\n",
            "Vowel\n"
          ]
        }
      ]
    },
    {
      "cell_type": "code",
      "source": [
        "num = int(input(\"Enter a Number:\"))\n",
        "if(num%5 == 0 and num%11 == 0):\n",
        "  print(\"Divisible by 5 and 11\")\n",
        "else:\n",
        "  print(\"Not DIvisible by both 5 and 11\")"
      ],
      "metadata": {
        "colab": {
          "base_uri": "https://localhost:8080/"
        },
        "id": "piO6A4iZfgZS",
        "outputId": "1b0f4472-0d28-45a6-c6db-3af0b22444e8"
      },
      "execution_count": 24,
      "outputs": [
        {
          "output_type": "stream",
          "name": "stdout",
          "text": [
            "Enter a Number:55\n",
            "Divisible by 5 and 11\n"
          ]
        }
      ]
    },
    {
      "cell_type": "code",
      "source": [
        "age = int(input(\"Enter your age:\"))\n",
        "if(age >= 18):\n",
        "  print(\"Eligible to Vote\")\n",
        "elif(age < 18):\n",
        "  print(\"Not ELigible to Vote\")\n",
        "else:\n",
        "  print(\"Enter valid age\")"
      ],
      "metadata": {
        "colab": {
          "base_uri": "https://localhost:8080/"
        },
        "id": "E_5exBJXf2QI",
        "outputId": "41360edf-8a9b-4f6b-b570-dfc9c4031863"
      },
      "execution_count": 25,
      "outputs": [
        {
          "output_type": "stream",
          "name": "stdout",
          "text": [
            "Enter your age:21\n",
            "Eligible to Vote\n"
          ]
        }
      ]
    },
    {
      "cell_type": "code",
      "source": [
        "num = int(input(\"Enter a Number:\"))\n",
        "if(num % 3 == 0 or num % 7 == 0):\n",
        "  print(\"Multiple of 3 or 7\")\n",
        "else:\n",
        "  print(\"Not a Multiple of 3 or 7\")"
      ],
      "metadata": {
        "colab": {
          "base_uri": "https://localhost:8080/"
        },
        "id": "4xHSg6Ffg0z3",
        "outputId": "e264ed67-44bd-402a-8c50-b2f2085402d0"
      },
      "execution_count": 28,
      "outputs": [
        {
          "output_type": "stream",
          "name": "stdout",
          "text": [
            "Enter a Number:21\n",
            "Multiple of 3 or 7\n"
          ]
        }
      ]
    },
    {
      "cell_type": "code",
      "source": [
        "num = int(input(\"Enter a Number:\"))\n",
        "if(num > 0):\n",
        "  if(num % 2 == 0):\n",
        "    print(\"Positive and Even\")\n",
        "  else:\n",
        "      print(\"Positive and Odd\")\n",
        "else:\n",
        "  print(\"Invalid\")"
      ],
      "metadata": {
        "colab": {
          "base_uri": "https://localhost:8080/"
        },
        "id": "W86Mz9NqgPog",
        "outputId": "0ffac5f0-7779-4aa8-9e3b-543a712c1cb3"
      },
      "execution_count": 26,
      "outputs": [
        {
          "output_type": "stream",
          "name": "stdout",
          "text": [
            "Enter a Number:13\n",
            "Positive and Odd\n"
          ]
        }
      ]
    },
    {
      "cell_type": "code",
      "source": [
        "marks = float(input(\"Enter your Marks\"))\n",
        "if(marks >= 90):\n",
        "  print(\"Grade A\")\n",
        "elif(marks >= 80 and marks <= 89):\n",
        "  print(\"Grade B\")\n",
        "elif(marks >= 70 and marks <= 79):\n",
        "  print(\"Grade C\")\n",
        "else:\n",
        "  print(\"Fail\")"
      ],
      "metadata": {
        "colab": {
          "base_uri": "https://localhost:8080/"
        },
        "id": "nBfiSnvqgw5K",
        "outputId": "42512aca-d37c-4357-9545-0cb8cd8953b7"
      },
      "execution_count": 29,
      "outputs": [
        {
          "output_type": "stream",
          "name": "stdout",
          "text": [
            "Enter your Marks78.9\n",
            "Grade C\n"
          ]
        }
      ]
    }
  ]
}